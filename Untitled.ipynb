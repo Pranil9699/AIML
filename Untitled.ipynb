{
 "cells": [
  {
   "cell_type": "code",
   "execution_count": 1,
   "id": "24688eba",
   "metadata": {},
   "outputs": [
    {
     "data": {
      "text/html": [
       "<div>\n",
       "<style scoped>\n",
       "    .dataframe tbody tr th:only-of-type {\n",
       "        vertical-align: middle;\n",
       "    }\n",
       "\n",
       "    .dataframe tbody tr th {\n",
       "        vertical-align: top;\n",
       "    }\n",
       "\n",
       "    .dataframe thead th {\n",
       "        text-align: right;\n",
       "    }\n",
       "</style>\n",
       "<table border=\"1\" class=\"dataframe\">\n",
       "  <thead>\n",
       "    <tr style=\"text-align: right;\">\n",
       "      <th></th>\n",
       "      <th>2019</th>\n",
       "      <th>2020</th>\n",
       "      <th>2021</th>\n",
       "    </tr>\n",
       "  </thead>\n",
       "  <tbody>\n",
       "    <tr>\n",
       "      <th>Kapil</th>\n",
       "      <td>205</td>\n",
       "      <td>177</td>\n",
       "      <td>189</td>\n",
       "    </tr>\n",
       "    <tr>\n",
       "      <th>Kamini</th>\n",
       "      <td>165</td>\n",
       "      <td>175</td>\n",
       "      <td>190</td>\n",
       "    </tr>\n",
       "    <tr>\n",
       "      <th>Shikhar</th>\n",
       "      <td>206</td>\n",
       "      <td>157</td>\n",
       "      <td>179</td>\n",
       "    </tr>\n",
       "    <tr>\n",
       "      <th>Mohini</th>\n",
       "      <td>198</td>\n",
       "      <td>183</td>\n",
       "      <td>169</td>\n",
       "    </tr>\n",
       "  </tbody>\n",
       "</table>\n",
       "</div>"
      ],
      "text/plain": [
       "         2019  2020  2021\n",
       "Kapil     205   177   189\n",
       "Kamini    165   175   190\n",
       "Shikhar   206   157   179\n",
       "Mohini    198   183   169"
      ]
     },
     "execution_count": 1,
     "metadata": {},
     "output_type": "execute_result"
    }
   ],
   "source": [
    "dict={\n",
    "    '2019':[205,165,206,198],\n",
    "    '2020':[177,175,157,183],\n",
    "    '2021':[189,190,179,169]\n",
    "}\n",
    "\n",
    "index_of_sales_person=['Kapil','Kamini','Shikhar','Mohini']\n",
    "\n",
    "import pandas as pd\n",
    "sales=pd.DataFrame(dict,index=index_of_sales_person)\n",
    "sales"
   ]
  },
  {
   "cell_type": "code",
   "execution_count": 2,
   "id": "fba6c99f",
   "metadata": {},
   "outputs": [
    {
     "data": {
      "text/plain": [
       "['Kapil', 'Kamini', 'Shikhar', 'Mohini']"
      ]
     },
     "execution_count": 2,
     "metadata": {},
     "output_type": "execute_result"
    }
   ],
   "source": [
    "#display the row labels of sales\n",
    "row_labels=sales.index.tolist()\n",
    "row_labels"
   ]
  },
  {
   "cell_type": "code",
   "execution_count": 3,
   "id": "2da4b5aa",
   "metadata": {},
   "outputs": [
    {
     "data": {
      "text/plain": [
       "['2019', '2020', '2021']"
      ]
     },
     "execution_count": 3,
     "metadata": {},
     "output_type": "execute_result"
    }
   ],
   "source": [
    "#display the column labels of sales\n",
    "col_labels=sales.columns.tolist()\n",
    "col_labels"
   ]
  },
  {
   "cell_type": "code",
   "execution_count": null,
   "id": "7d3f3c2f",
   "metadata": {},
   "outputs": [],
   "source": [
    "#display data type of each column of sales\n",
    "print(\"Data types:\", n)"
   ]
  }
 ],
 "metadata": {
  "kernelspec": {
   "display_name": "Python 3 (ipykernel)",
   "language": "python",
   "name": "python3"
  },
  "language_info": {
   "codemirror_mode": {
    "name": "ipython",
    "version": 3
   },
   "file_extension": ".py",
   "mimetype": "text/x-python",
   "name": "python",
   "nbconvert_exporter": "python",
   "pygments_lexer": "ipython3",
   "version": "3.11.5"
  }
 },
 "nbformat": 4,
 "nbformat_minor": 5
}
