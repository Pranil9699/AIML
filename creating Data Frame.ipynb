{
 "cells": [
  {
   "cell_type": "code",
   "execution_count": 1,
   "id": "9ebd1bd0",
   "metadata": {},
   "outputs": [
    {
     "data": {
      "text/html": [
       "<div>\n",
       "<style scoped>\n",
       "    .dataframe tbody tr th:only-of-type {\n",
       "        vertical-align: middle;\n",
       "    }\n",
       "\n",
       "    .dataframe tbody tr th {\n",
       "        vertical-align: top;\n",
       "    }\n",
       "\n",
       "    .dataframe thead th {\n",
       "        text-align: right;\n",
       "    }\n",
       "</style>\n",
       "<table border=\"1\" class=\"dataframe\">\n",
       "  <thead>\n",
       "    <tr style=\"text-align: right;\">\n",
       "      <th></th>\n",
       "      <th>2019</th>\n",
       "      <th>2020</th>\n",
       "      <th>2021</th>\n",
       "    </tr>\n",
       "  </thead>\n",
       "  <tbody>\n",
       "    <tr>\n",
       "      <th>Kapil</th>\n",
       "      <td>205</td>\n",
       "      <td>177</td>\n",
       "      <td>189</td>\n",
       "    </tr>\n",
       "    <tr>\n",
       "      <th>Kamini</th>\n",
       "      <td>165</td>\n",
       "      <td>175</td>\n",
       "      <td>190</td>\n",
       "    </tr>\n",
       "    <tr>\n",
       "      <th>Shikhar</th>\n",
       "      <td>206</td>\n",
       "      <td>157</td>\n",
       "      <td>179</td>\n",
       "    </tr>\n",
       "    <tr>\n",
       "      <th>Mohini</th>\n",
       "      <td>198</td>\n",
       "      <td>183</td>\n",
       "      <td>169</td>\n",
       "    </tr>\n",
       "  </tbody>\n",
       "</table>\n",
       "</div>"
      ],
      "text/plain": [
       "         2019  2020  2021\n",
       "Kapil     205   177   189\n",
       "Kamini    165   175   190\n",
       "Shikhar   206   157   179\n",
       "Mohini    198   183   169"
      ]
     },
     "execution_count": 1,
     "metadata": {},
     "output_type": "execute_result"
    }
   ],
   "source": [
    "dict={\n",
    "    '2019':[205,165,206,198],\n",
    "    '2020':[177,175,157,183],\n",
    "    '2021':[189,190,179,169]\n",
    "}\n",
    "\n",
    "index_of_sales_person=['Kapil','Kamini','Shikhar','Mohini']\n",
    "\n",
    "import pandas as pd\n",
    "sales=pd.DataFrame(dict,index=index_of_sales_person)\n",
    "sales"
   ]
  },
  {
   "cell_type": "code",
   "execution_count": 2,
   "id": "1c6591ca",
   "metadata": {},
   "outputs": [
    {
     "data": {
      "text/plain": [
       "['Kapil', 'Kamini', 'Shikhar', 'Mohini']"
      ]
     },
     "execution_count": 2,
     "metadata": {},
     "output_type": "execute_result"
    }
   ],
   "source": [
    "#display the row labels of sales\n",
    "row_labels=sales.index.tolist()\n",
    "row_labels"
   ]
  },
  {
   "cell_type": "code",
   "execution_count": 3,
   "id": "01c55d23",
   "metadata": {},
   "outputs": [
    {
     "data": {
      "text/plain": [
       "['2019', '2020', '2021']"
      ]
     },
     "execution_count": 3,
     "metadata": {},
     "output_type": "execute_result"
    }
   ],
   "source": [
    "#display the column labels of sales\n",
    "col_labels=sales.columns.tolist()\n",
    "col_labels"
   ]
  },
  {
   "cell_type": "code",
   "execution_count": 5,
   "id": "13ed9af4",
   "metadata": {},
   "outputs": [
    {
     "name": "stdout",
     "output_type": "stream",
     "text": [
      "Data types: 2019    int64\n",
      "2020    int64\n",
      "2021    int64\n",
      "dtype: object\n"
     ]
    }
   ],
   "source": [
    "#display data type of each column of sales\n",
    "print(\"Data types:\", sales.dtypes)"
   ]
  },
  {
   "cell_type": "code",
   "execution_count": 9,
   "id": "aac80251",
   "metadata": {},
   "outputs": [
    {
     "name": "stdout",
     "output_type": "stream",
     "text": [
      "2\n",
      "(4, 3)\n",
      "12\n",
      "[[205 177 189]\n",
      " [165 175 190]\n",
      " [206 157 179]\n",
      " [198 183 169]]\n"
     ]
    }
   ],
   "source": [
    "#display the dimension shape and size and values of that dataframe\n",
    "print(sales.ndim)\n",
    "print(sales.shape)\n",
    "print(sales.size)\n",
    "print(sales.values)"
   ]
  }
 ],
 "metadata": {
  "kernelspec": {
   "display_name": "Python 3 (ipykernel)",
   "language": "python",
   "name": "python3"
  },
  "language_info": {
   "codemirror_mode": {
    "name": "ipython",
    "version": 3
   },
   "file_extension": ".py",
   "mimetype": "text/x-python",
   "name": "python",
   "nbconvert_exporter": "python",
   "pygments_lexer": "ipython3",
   "version": "3.11.5"
  }
 },
 "nbformat": 4,
 "nbformat_minor": 5
}
